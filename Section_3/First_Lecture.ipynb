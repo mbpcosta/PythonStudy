{
 "cells": [
  {
   "cell_type": "code",
   "execution_count": 2,
   "source": [
    "print(\"CLICK ARROW ICON TO RUN CODE IN CELL!\")"
   ],
   "outputs": [
    {
     "output_type": "stream",
     "name": "stdout",
     "text": [
      "CLICK ARROW ICON TO RUN CODE IN CELL!\n"
     ]
    }
   ],
   "metadata": {}
  },
  {
   "cell_type": "code",
   "execution_count": 3,
   "source": [
    "print(\"HOLD SHIFT + ENTER TO RUN CODE IN CELL!\")"
   ],
   "outputs": [
    {
     "output_type": "stream",
     "name": "stdout",
     "text": [
      "HOLD SHIFT + ENTER TO RUN CODE IN CELL!\n"
     ]
    }
   ],
   "metadata": {}
  },
  {
   "cell_type": "code",
   "execution_count": 4,
   "source": [
    "print(\"HOLD CTRL + ALT + UP/DOWN ARROW FOR MULTI CURSOR!\")\r\n",
    "print(\"HOLD CTRL + ALT + UP/DOWN ARROW FOR MULTI CURSOR!\")\r\n",
    "print(\"HOLD CTRL + ALT + UP/DOWN ARROW FOR MULTI CURSOR!\")\r\n",
    "print(\"HOLD CTRL + ALT + UP/DOWN ARROW FOR MULTI CURSOR!\")\r\n",
    "print(\"HOLD CTRL + ALT + UP/DOWN ARROW FOR MULTI CURSOR!\")\r\n",
    "print(\"HOLD CTRL + ALT + UP/DOWN ARROW FOR MULTI CURSOR!\")\r\n"
   ],
   "outputs": [
    {
     "output_type": "stream",
     "name": "stdout",
     "text": [
      "HOLD CTRL + ALT + UP/DOWN ARROW FOR MULTI CURSOR!\n",
      "HOLD CTRL + ALT + UP/DOWN ARROW FOR MULTI CURSOR!\n",
      "HOLD CTRL + ALT + UP/DOWN ARROW FOR MULTI CURSOR!\n",
      "HOLD CTRL + ALT + UP/DOWN ARROW FOR MULTI CURSOR!\n",
      "HOLD CTRL + ALT + UP/DOWN ARROW FOR MULTI CURSOR!\n",
      "HOLD CTRL + ALT + UP/DOWN ARROW FOR MULTI CURSOR!\n"
     ]
    }
   ],
   "metadata": {
    "scrolled": true
   }
  },
  {
   "cell_type": "code",
   "execution_count": 14,
   "source": [
    "var = 2\r\n",
    "print(2+var)\r\n",
    "print(2-var)\r\n",
    "print(2*var)\r\n",
    "print(4/var)\r\n",
    "print(4//var)\r\n",
    "print(4%var)\r\n",
    "print(4**var)\r\n",
    "var2 = 2.3\r\n",
    "int_var2 = int(var2)"
   ],
   "outputs": [
    {
     "output_type": "stream",
     "name": "stdout",
     "text": [
      "4\n",
      "0\n",
      "4\n",
      "2.0\n",
      "2\n",
      "0\n",
      "16\n"
     ]
    }
   ],
   "metadata": {}
  },
  {
   "cell_type": "code",
   "execution_count": 1,
   "source": [
    "green = \"Hello World!\"\r\n",
    "len(green)"
   ],
   "outputs": [
    {
     "output_type": "execute_result",
     "data": {
      "text/plain": [
       "12"
      ]
     },
     "metadata": {},
     "execution_count": 1
    }
   ],
   "metadata": {}
  },
  {
   "cell_type": "code",
   "execution_count": 5,
   "source": [
    "cat = \"meow\" ; dog =\"woof\" ; parrot = 'hello'\r\n",
    "print(cat, dog, parrot, sep = \", \", end = \"!!\")"
   ],
   "outputs": [
    {
     "output_type": "stream",
     "name": "stdout",
     "text": [
      "meow, woof, hello!!"
     ]
    }
   ],
   "metadata": {}
  },
  {
   "cell_type": "code",
   "execution_count": 7,
   "source": [
    "lang = \"C++\"\r\n",
    "\"This is a cool \" + lang + \" course!\""
   ],
   "outputs": [
    {
     "output_type": "execute_result",
     "data": {
      "text/plain": [
       "'This is a cool C++ course!'"
      ]
     },
     "metadata": {},
     "execution_count": 7
    }
   ],
   "metadata": {}
  },
  {
   "cell_type": "code",
   "execution_count": 8,
   "source": [
    "num = 100\r\n",
    "\"lecture \" + str(num) + \" is on string!\""
   ],
   "outputs": [
    {
     "output_type": "execute_result",
     "data": {
      "text/plain": [
       "'lecture 100 is on string!'"
      ]
     },
     "metadata": {},
     "execution_count": 8
    }
   ],
   "metadata": {}
  },
  {
   "cell_type": "code",
   "execution_count": 13,
   "source": [
    "\"20\" + \"50\"\r\n",
    "type(eval)\r\n",
    "\r\n",
    "type(eval(\"45.3\"))\r\n",
    "\r\n",
    "eval(\"20\") + eval(\"50\")\r\n",
    "eval(\"20 * 20\")"
   ],
   "outputs": [
    {
     "output_type": "execute_result",
     "data": {
      "text/plain": [
       "400"
      ]
     },
     "metadata": {},
     "execution_count": 13
    }
   ],
   "metadata": {}
  },
  {
   "cell_type": "code",
   "execution_count": 17,
   "source": [
    "check=\"a a a a b b b c c c B b\"\r\n",
    "check.count(\"B\")"
   ],
   "outputs": [
    {
     "output_type": "execute_result",
     "data": {
      "text/plain": [
       "1"
      ]
     },
     "metadata": {},
     "execution_count": 17
    }
   ],
   "metadata": {}
  },
  {
   "cell_type": "code",
   "execution_count": 30,
   "source": [
    "messy = \"\"\"\\\\PLEASE #@CLEAN UP-- #@THIS MESSY #@DOCSTRING\r\n",
    "WICH --CAN HAVE \\\\MULTIPLE\\\\ LINES\\\\\r\n",
    "OF STRING--\"\"\"\r\n",
    "print(messy)\r\n",
    "messy.replace(\"\\\\\",\"\").replace(\"#@\",\"\").replace(\"\\n\", \" \").replace(\"--\",\"\").lower().capitalize()"
   ],
   "outputs": [
    {
     "output_type": "stream",
     "name": "stdout",
     "text": [
      "\\PLEASE #@CLEAN UP-- #@THIS MESSY #@DOCSTRING\n",
      "WICH --CAN HAVE \\MULTIPLE\\ LINES\\\n",
      "OF STRING--\n"
     ]
    },
    {
     "output_type": "execute_result",
     "data": {
      "text/plain": [
       "'Please clean up this messy docstring wich can have multiple lines of string'"
      ]
     },
     "metadata": {},
     "execution_count": 30
    }
   ],
   "metadata": {}
  },
  {
   "cell_type": "code",
   "execution_count": 31,
   "source": [
    "pet = \"cat\"\r\n",
    "pet[0]"
   ],
   "outputs": [
    {
     "output_type": "execute_result",
     "data": {
      "text/plain": [
       "'c'"
      ]
     },
     "metadata": {},
     "execution_count": 31
    }
   ],
   "metadata": {}
  },
  {
   "cell_type": "code",
   "execution_count": null,
   "source": [],
   "outputs": [],
   "metadata": {}
  }
 ],
 "metadata": {
  "kernelspec": {
   "name": "python3",
   "display_name": "Python 3.9.6 64-bit"
  },
  "language_info": {
   "codemirror_mode": {
    "name": "ipython",
    "version": 3
   },
   "file_extension": ".py",
   "mimetype": "text/x-python",
   "name": "python",
   "nbconvert_exporter": "python",
   "pygments_lexer": "ipython3",
   "version": "3.9.6"
  },
  "interpreter": {
   "hash": "80d02d334264122074d532ac50a63a76e5783a4b84de9d177d517ea8facd235c"
  }
 },
 "nbformat": 4,
 "nbformat_minor": 5
}