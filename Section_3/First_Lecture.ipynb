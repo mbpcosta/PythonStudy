{
 "cells": [
  {
   "cell_type": "code",
   "execution_count": 2,
   "source": [
    "print(\"CLICK ARROW ICON TO RUN CODE IN CELL!\")"
   ],
   "outputs": [
    {
     "output_type": "stream",
     "name": "stdout",
     "text": [
      "CLICK ARROW ICON TO RUN CODE IN CELL!\n"
     ]
    }
   ],
   "metadata": {}
  },
  {
   "cell_type": "code",
   "execution_count": 3,
   "source": [
    "print(\"HOLD SHIFT + ENTER TO RUN CODE IN CELL!\")"
   ],
   "outputs": [
    {
     "output_type": "stream",
     "name": "stdout",
     "text": [
      "HOLD SHIFT + ENTER TO RUN CODE IN CELL!\n"
     ]
    }
   ],
   "metadata": {}
  },
  {
   "cell_type": "code",
   "execution_count": 4,
   "source": [
    "print(\"HOLD CTRL + ALT + UP/DOWN ARROW FOR MULTI CURSOR!\")\r\n",
    "print(\"HOLD CTRL + ALT + UP/DOWN ARROW FOR MULTI CURSOR!\")\r\n",
    "print(\"HOLD CTRL + ALT + UP/DOWN ARROW FOR MULTI CURSOR!\")\r\n",
    "print(\"HOLD CTRL + ALT + UP/DOWN ARROW FOR MULTI CURSOR!\")\r\n",
    "print(\"HOLD CTRL + ALT + UP/DOWN ARROW FOR MULTI CURSOR!\")\r\n",
    "print(\"HOLD CTRL + ALT + UP/DOWN ARROW FOR MULTI CURSOR!\")\r\n"
   ],
   "outputs": [
    {
     "output_type": "stream",
     "name": "stdout",
     "text": [
      "HOLD CTRL + ALT + UP/DOWN ARROW FOR MULTI CURSOR!\n",
      "HOLD CTRL + ALT + UP/DOWN ARROW FOR MULTI CURSOR!\n",
      "HOLD CTRL + ALT + UP/DOWN ARROW FOR MULTI CURSOR!\n",
      "HOLD CTRL + ALT + UP/DOWN ARROW FOR MULTI CURSOR!\n",
      "HOLD CTRL + ALT + UP/DOWN ARROW FOR MULTI CURSOR!\n",
      "HOLD CTRL + ALT + UP/DOWN ARROW FOR MULTI CURSOR!\n"
     ]
    }
   ],
   "metadata": {
    "scrolled": true
   }
  },
  {
   "cell_type": "code",
   "execution_count": 14,
   "source": [
    "var = 2\r\n",
    "print(2+var)\r\n",
    "print(2-var)\r\n",
    "print(2*var)\r\n",
    "print(4/var)\r\n",
    "print(4//var)\r\n",
    "print(4%var)\r\n",
    "print(4**var)\r\n",
    "var2 = 2.3\r\n",
    "int_var2 = int(var2)"
   ],
   "outputs": [
    {
     "output_type": "stream",
     "name": "stdout",
     "text": [
      "4\n",
      "0\n",
      "4\n",
      "2.0\n",
      "2\n",
      "0\n",
      "16\n"
     ]
    }
   ],
   "metadata": {}
  },
  {
   "cell_type": "code",
   "execution_count": 1,
   "source": [
    "green = \"Hello World!\"\r\n",
    "len(green)"
   ],
   "outputs": [
    {
     "output_type": "execute_result",
     "data": {
      "text/plain": [
       "12"
      ]
     },
     "metadata": {},
     "execution_count": 1
    }
   ],
   "metadata": {}
  },
  {
   "cell_type": "code",
   "execution_count": 5,
   "source": [
    "cat = \"meow\" ; dog =\"woof\" ; parrot = 'hello'\r\n",
    "print(cat, dog, parrot, sep = \", \", end = \"!!\")"
   ],
   "outputs": [
    {
     "output_type": "stream",
     "name": "stdout",
     "text": [
      "meow, woof, hello!!"
     ]
    }
   ],
   "metadata": {}
  },
  {
   "cell_type": "code",
   "execution_count": 7,
   "source": [
    "lang = \"C++\"\r\n",
    "\"This is a cool \" + lang + \" course!\""
   ],
   "outputs": [
    {
     "output_type": "execute_result",
     "data": {
      "text/plain": [
       "'This is a cool C++ course!'"
      ]
     },
     "metadata": {},
     "execution_count": 7
    }
   ],
   "metadata": {}
  },
  {
   "cell_type": "code",
   "execution_count": 8,
   "source": [
    "num = 100\r\n",
    "\"lecture \" + str(num) + \" is on string!\""
   ],
   "outputs": [
    {
     "output_type": "execute_result",
     "data": {
      "text/plain": [
       "'lecture 100 is on string!'"
      ]
     },
     "metadata": {},
     "execution_count": 8
    }
   ],
   "metadata": {}
  },
  {
   "cell_type": "code",
   "execution_count": 13,
   "source": [
    "\"20\" + \"50\"\r\n",
    "type(eval)\r\n",
    "\r\n",
    "type(eval(\"45.3\"))\r\n",
    "\r\n",
    "eval(\"20\") + eval(\"50\")\r\n",
    "eval(\"20 * 20\")"
   ],
   "outputs": [
    {
     "output_type": "execute_result",
     "data": {
      "text/plain": [
       "400"
      ]
     },
     "metadata": {},
     "execution_count": 13
    }
   ],
   "metadata": {}
  },
  {
   "cell_type": "code",
   "execution_count": 17,
   "source": [
    "check=\"a a a a b b b c c c B b\"\r\n",
    "check.count(\"B\")"
   ],
   "outputs": [
    {
     "output_type": "execute_result",
     "data": {
      "text/plain": [
       "1"
      ]
     },
     "metadata": {},
     "execution_count": 17
    }
   ],
   "metadata": {}
  },
  {
   "cell_type": "code",
   "execution_count": 30,
   "source": [
    "messy = \"\"\"\\\\PLEASE #@CLEAN UP-- #@THIS MESSY #@DOCSTRING\r\n",
    "WICH --CAN HAVE \\\\MULTIPLE\\\\ LINES\\\\\r\n",
    "OF STRING--\"\"\"\r\n",
    "print(messy)\r\n",
    "messy.replace(\"\\\\\",\"\").replace(\"#@\",\"\").replace(\"\\n\", \" \").replace(\"--\",\"\").lower().capitalize()"
   ],
   "outputs": [
    {
     "output_type": "stream",
     "name": "stdout",
     "text": [
      "\\PLEASE #@CLEAN UP-- #@THIS MESSY #@DOCSTRING\n",
      "WICH --CAN HAVE \\MULTIPLE\\ LINES\\\n",
      "OF STRING--\n"
     ]
    },
    {
     "output_type": "execute_result",
     "data": {
      "text/plain": [
       "'Please clean up this messy docstring wich can have multiple lines of string'"
      ]
     },
     "metadata": {},
     "execution_count": 30
    }
   ],
   "metadata": {}
  },
  {
   "cell_type": "code",
   "execution_count": 31,
   "source": [
    "pet = \"cat\"\r\n",
    "pet[0]"
   ],
   "outputs": [
    {
     "output_type": "execute_result",
     "data": {
      "text/plain": [
       "'c'"
      ]
     },
     "metadata": {},
     "execution_count": 31
    }
   ],
   "metadata": {}
  },
  {
   "cell_type": "code",
   "execution_count": 1,
   "source": [
    "robot=\"technologically\"\r\n",
    "consoles = \"ps4 is cooler than xbox!\"\r\n",
    "code=\"p1y2t3h4o5n6i7c8\"\r\n",
    "words = \"I saw a cat jump over the moon and into the clouds\"\r\n",
    "new_words = \"I saw a cow flu over the gates and into the forest\"\r\n",
    "paid = \"I received a total of $5000\""
   ],
   "outputs": [],
   "metadata": {}
  },
  {
   "cell_type": "code",
   "execution_count": 4,
   "source": [
    "len(robot)\r\n",
    "robot"
   ],
   "outputs": [
    {
     "output_type": "execute_result",
     "data": {
      "text/plain": [
       "'technologically'"
      ]
     },
     "metadata": {},
     "execution_count": 4
    }
   ],
   "metadata": {}
  },
  {
   "cell_type": "code",
   "execution_count": 8,
   "source": [
    "robot[0:6]"
   ],
   "outputs": [
    {
     "output_type": "execute_result",
     "data": {
      "text/plain": [
       "'techno'"
      ]
     },
     "metadata": {},
     "execution_count": 8
    }
   ],
   "metadata": {}
  },
  {
   "cell_type": "code",
   "execution_count": 14,
   "source": [
    "robot[6:]"
   ],
   "outputs": [
    {
     "output_type": "execute_result",
     "data": {
      "text/plain": [
       "'logically'"
      ]
     },
     "metadata": {},
     "execution_count": 14
    }
   ],
   "metadata": {}
  },
  {
   "cell_type": "code",
   "execution_count": 15,
   "source": [
    "robot[6:13]"
   ],
   "outputs": [
    {
     "output_type": "execute_result",
     "data": {
      "text/plain": [
       "'logical'"
      ]
     },
     "metadata": {},
     "execution_count": 15
    }
   ],
   "metadata": {}
  },
  {
   "cell_type": "code",
   "execution_count": 17,
   "source": [
    "robot[10:14]"
   ],
   "outputs": [
    {
     "output_type": "execute_result",
     "data": {
      "text/plain": [
       "'call'"
      ]
     },
     "metadata": {},
     "execution_count": 17
    }
   ],
   "metadata": {}
  },
  {
   "cell_type": "code",
   "execution_count": 18,
   "source": [
    "consoles.endswith(\"!\")"
   ],
   "outputs": [
    {
     "output_type": "execute_result",
     "data": {
      "text/plain": [
       "'ps4 is cooler than xbox!'"
      ]
     },
     "metadata": {},
     "execution_count": 18
    }
   ],
   "metadata": {}
  },
  {
   "cell_type": "code",
   "execution_count": 20,
   "source": [
    "consoles[7:13]"
   ],
   "outputs": [
    {
     "output_type": "execute_result",
     "data": {
      "text/plain": [
       "'cooler'"
      ]
     },
     "metadata": {},
     "execution_count": 20
    }
   ],
   "metadata": {}
  },
  {
   "cell_type": "code",
   "execution_count": 22,
   "source": [
    "consoles[-17:-11]"
   ],
   "outputs": [
    {
     "output_type": "execute_result",
     "data": {
      "text/plain": [
       "'cooler'"
      ]
     },
     "metadata": {},
     "execution_count": 22
    }
   ],
   "metadata": {}
  },
  {
   "cell_type": "code",
   "execution_count": 23,
   "source": [
    "code"
   ],
   "outputs": [
    {
     "output_type": "execute_result",
     "data": {
      "text/plain": [
       "'p1y2t3h4o5n6i7c8'"
      ]
     },
     "metadata": {},
     "execution_count": 23
    }
   ],
   "metadata": {}
  },
  {
   "cell_type": "code",
   "execution_count": 25,
   "source": [
    "code[0::2].capitalize()"
   ],
   "outputs": [
    {
     "output_type": "execute_result",
     "data": {
      "text/plain": [
       "'Pythonic'"
      ]
     },
     "metadata": {},
     "execution_count": 25
    }
   ],
   "metadata": {}
  },
  {
   "cell_type": "code",
   "execution_count": 29,
   "source": [
    "code[1::2]#Revese[::-1]"
   ],
   "outputs": [
    {
     "output_type": "execute_result",
     "data": {
      "text/plain": [
       "'12345678'"
      ]
     },
     "metadata": {},
     "execution_count": 29
    }
   ],
   "metadata": {}
  },
  {
   "cell_type": "code",
   "execution_count": 32,
   "source": [
    "var = words.split()\r\n",
    "var"
   ],
   "outputs": [
    {
     "output_type": "execute_result",
     "data": {
      "text/plain": [
       "['I',\n",
       " 'saw',\n",
       " 'a',\n",
       " 'cat',\n",
       " 'jump',\n",
       " 'over',\n",
       " 'the',\n",
       " 'moon',\n",
       " 'and',\n",
       " 'into',\n",
       " 'the',\n",
       " 'clouds']"
      ]
     },
     "metadata": {},
     "execution_count": 32
    }
   ],
   "metadata": {}
  },
  {
   "cell_type": "code",
   "execution_count": 39,
   "source": [
    "len(var)\r\n",
    "var[3:12:2]"
   ],
   "outputs": [
    {
     "output_type": "execute_result",
     "data": {
      "text/plain": [
       "['cat', 'over', 'moon', 'into', 'clouds']"
      ]
     },
     "metadata": {},
     "execution_count": 39
    }
   ],
   "metadata": {}
  },
  {
   "cell_type": "code",
   "execution_count": 40,
   "source": [
    "s1 = slice(3, 12, 2)\r\n",
    "new_words.split()[s1]"
   ],
   "outputs": [
    {
     "output_type": "execute_result",
     "data": {
      "text/plain": [
       "['cow', 'over', 'gates', 'into', 'forest']"
      ]
     },
     "metadata": {},
     "execution_count": 40
    }
   ],
   "metadata": {}
  },
  {
   "cell_type": "code",
   "execution_count": 41,
   "source": [
    "var[s1]"
   ],
   "outputs": [
    {
     "output_type": "execute_result",
     "data": {
      "text/plain": [
       "['cat', 'over', 'moon', 'into', 'clouds']"
      ]
     },
     "metadata": {},
     "execution_count": 41
    }
   ],
   "metadata": {}
  },
  {
   "cell_type": "code",
   "execution_count": 44,
   "source": [
    "\"cat\" in var and \"cow\" not in new_words.split()"
   ],
   "outputs": [
    {
     "output_type": "execute_result",
     "data": {
      "text/plain": [
       "False"
      ]
     },
     "metadata": {},
     "execution_count": 44
    }
   ],
   "metadata": {}
  },
  {
   "cell_type": "code",
   "execution_count": 43,
   "source": [
    "\" \".join(var)"
   ],
   "outputs": [
    {
     "output_type": "execute_result",
     "data": {
      "text/plain": [
       "'I saw a cat jump over the moon and into the clouds'"
      ]
     },
     "metadata": {},
     "execution_count": 43
    }
   ],
   "metadata": {}
  },
  {
   "cell_type": "code",
   "execution_count": 47,
   "source": [
    "paid.split(\"$\")[1]"
   ],
   "outputs": [
    {
     "output_type": "execute_result",
     "data": {
      "text/plain": [
       "'5000'"
      ]
     },
     "metadata": {},
     "execution_count": 47
    }
   ],
   "metadata": {}
  },
  {
   "cell_type": "code",
   "execution_count": 51,
   "source": [
    "name = \"Michael\" ; grade = \"A+\"\r\n",
    "\"The student's name is {} and the grade is {}\".format(name, grade)"
   ],
   "outputs": [
    {
     "output_type": "execute_result",
     "data": {
      "text/plain": [
       "\"The student's name is Michael and the grade is A+\""
      ]
     },
     "metadata": {},
     "execution_count": 51
    }
   ],
   "metadata": {}
  },
  {
   "cell_type": "code",
   "execution_count": null,
   "source": [],
   "outputs": [],
   "metadata": {}
  }
 ],
 "metadata": {
  "kernelspec": {
   "name": "python3",
   "display_name": "Python 3.9.6 64-bit"
  },
  "language_info": {
   "codemirror_mode": {
    "name": "ipython",
    "version": 3
   },
   "file_extension": ".py",
   "mimetype": "text/x-python",
   "name": "python",
   "nbconvert_exporter": "python",
   "pygments_lexer": "ipython3",
   "version": "3.9.6"
  },
  "interpreter": {
   "hash": "80d02d334264122074d532ac50a63a76e5783a4b84de9d177d517ea8facd235c"
  }
 },
 "nbformat": 4,
 "nbformat_minor": 5
}